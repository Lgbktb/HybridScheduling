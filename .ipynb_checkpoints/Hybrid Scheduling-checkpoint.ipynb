{
 "cells": [
  {
   "cell_type": "markdown",
   "metadata": {},
   "source": [
    "# Hybrid Scheduling\n"
   ]
  },
  {
   "cell_type": "code",
   "execution_count": 1,
   "metadata": {},
   "outputs": [],
   "source": [
    "import datetime as dt"
   ]
  },
  {
   "cell_type": "code",
   "execution_count": 2,
   "metadata": {},
   "outputs": [],
   "source": [
    "class task:\n",
    "\n",
    "    def __init__(self, tID, arrivalTime, burstTime, tasksPriority, distance, areaID):\n",
    "        # arrivalTime is a datetime.datetime object\n",
    "        # burstTime is a datetime.timedelta object\n",
    "        # All other variables are integers\n",
    "        self.tID = tID\n",
    "        self.arrivalTime = arrivalTime\n",
    "        self.burstTime = burstTime\n",
    "        self.tasksPriority = tasksPriority\n",
    "        self.distance = distance\n",
    "        self.areaID = areaID\n",
    "        \n",
    "    def __str__(self):\n",
    "        return f'tID: {self.tID}; arrivalTime: ${self.arrivalTime}; burstTime: {self.burstTime}; tasksPriority: {self.tasksPriority} distance: {self.distance}; areaID: {self.areaID}'\n",
    "    \n",
    "    def setProcessor(self, processorID, startTime):\n",
    "        # Processor ID is integer\n",
    "        # startTime is a datetime.time object\n",
    "\n",
    "        #startTime is datetime\n",
    "        self.startTime = startTime\n",
    "        #waitingTime is timedelta\n",
    "        self.waitingTime = self.startTime - self.arrivalTime\n",
    "        #turnaroundTime is timedelta\n",
    "        self.turnaroundTime = self.waitingTime + self.burstTime\n",
    "        #Completion Time is datetime (hopefully), this is the most suspect operation\n",
    "        self.completionTime = self.arrivalTime + self.turnaroundTime\n",
    "        #processorID\n",
    "        self.processorID = processorID \n",
    "    \n",
    "    def getProcessorInfo(self):\n",
    "        return f'tID: {self.tID}; startTime: {self.startTime}; completionTime: {self.completionTime}; turnaroundTime: {self.turnaroundTime}; waitingTime: {self.waitingTime}; proc: {self.processorID}'"
   ]
  },
  {
   "cell_type": "code",
   "execution_count": 3,
   "metadata": {},
   "outputs": [],
   "source": [
    "# mimics the default sorted functionality when used with a key\n",
    "# sorted(list, key=lambda x:x.whatever)\n",
    "def taskSort_helper(tasks, key):\n",
    "    # Takes a list of tasks and a function key\n",
    "    # Returns a Tuple of Lists of Tasks\n",
    "    # Sorted into their lists based on comparison to function key\n",
    "    \n",
    "    less = []\n",
    "    equal = []\n",
    "    greater = []\n",
    "    \n",
    "    pivot = key(tasks[0])\n",
    "    for x in tasks:\n",
    "        if key(x) < pivot:\n",
    "            less.append(x)\n",
    "        elif key(x) == pivot:\n",
    "            equal.append(x)\n",
    "        elif key(x) > pivot:\n",
    "            greater.append(x)\n",
    "    # tuple[0] is all items less than the pivot, tuple[1] is equal (pivot/tasks[0] will always go here), tuple[2] is greater\n",
    "    return (less, equal, greater)"
   ]
  },
  {
   "cell_type": "code",
   "execution_count": 4,
   "metadata": {},
   "outputs": [],
   "source": [
    "def taskSort(tasks):\n",
    "    # tasks must be a list of task objects\n",
    "    # Returns list of tasks in specified sorted order \n",
    "    prioTuple = ([],[],[])\n",
    "    distTuple = ([],[],[])\n",
    "    burstTuple = ([],[],[])\n",
    "    arrivalTuple = ([],[],[])\n",
    "    trueEqual = []\n",
    "    # Step 1: Sort by priority (high to low)\n",
    "    if len(tasks) > 1:\n",
    "        prioTuple = taskSort_helper(tasks, lambda x:x.tasksPriority)\n",
    "        # Step 2: If same priority, sort by distance (low to high)\n",
    "        if len(prioTuple[1]) > 1: # Length of equal priority items\n",
    "            distTuple = taskSort_helper(prioTuple[1], lambda x:x.distance)\n",
    "            # Step 3: if Same distance, sort by burst time (low to high)\n",
    "            if len(distTuple[1]) > 1: # Length of equal Distance Items\n",
    "                burstTuple = taskSort_helper(distTuple[1], lambda x:x.burstTime)\n",
    "                # Step 4: If same burst time, sort by arrival time\n",
    "                if len(burstTuple[1]) > 1: # Length of equal BurstTime items\n",
    "                    arrivalTuple = taskSort_helper(burstTuple[1], lambda x:x.arrivalTime)\n",
    "                    trueEqual = arrivalTuple[1]\n",
    "                else:\n",
    "                    trueEqual = burstTuple[1]\n",
    "            else:\n",
    "                trueEqual = distTuple[1]\n",
    "        else:\n",
    "            trueEqual = prioTuple[1]\n",
    "        \n",
    "        # return taskSort(greaterprio)+taskSort(lessdist)+equal+taskSort(greaterdist)+taskSort(lessprio)\n",
    "        # For only Steps 1 and 2:\n",
    "        # return taskSort(prioTuple[2])+taskSort(distTuple[0])+trueEqual+taskSort(distTuple[2])+taskSort(prioTuple[0])\n",
    "        # For Steps 1,2,3\n",
    "        # return taskSort(prioTuple[2])+taskSort(distTuple[0])+taskSort(burstTuple[0])+trueEqual+taskSort(burstTuple[2]+taskSort(distTuple[2])+taskSort(prioTuple[0])\n",
    "        # For all steps\n",
    "        return taskSort(prioTuple[2])+taskSort(distTuple[0])+taskSort(burstTuple[0])+taskSort(arrivalTuple[0])+trueEqual+taskSort(arrivalTuple[2])+taskSort(burstTuple[2])+taskSort(distTuple[2])+taskSort(prioTuple[0])\n",
    "\n",
    "    # Note that you want equal ^^^^^ not pivot\n",
    "    else:  # You need to hande the part at the end of the recursion - when you only have one element in your array, just return the array.\n",
    "        return tasks"
   ]
  },
  {
   "cell_type": "code",
   "execution_count": 5,
   "metadata": {},
   "outputs": [],
   "source": [
    "def soonestTime(processorTime):\n",
    "    # Used once in code, so doeen't need to be a function, but is a useful abstraction\n",
    "    # Returns key of dict processorTime that is the soonest time \n",
    "    soonest = 0\n",
    "    for key in processorTime:\n",
    "        if processorTime[key] < processorTime[soonest]:\n",
    "            soonest = key\n",
    "    return soonest"
   ]
  },
  {
   "cell_type": "code",
   "execution_count": 6,
   "metadata": {},
   "outputs": [],
   "source": [
    "def hybridScheduleNoGroup(taskList, rescueStartTime, processorCount, processorResetTime=dt.timedelta(minutes=30)):\n",
    "    # taskList is a list of task objects needed to be sorted\n",
    "    # rescueStartTime is a datetime.time object meaning the time \n",
    "    # processorCount is an integer\n",
    "    # ProcessorResetTime represents ProcessorPrepTime, but I don't entirely understand what it's purpose is.\n",
    "    # My best guess and how I am impementing it is that each processor needs 30 minutes(defualt) to 'prep'\n",
    "    # As that preptime is unrelated to the acutal processes completing, the task object doesnt have knowledge of it, and only the processorTime dict sees its effects\n",
    "    \n",
    "    # Sort Tasks in  based by Priority\n",
    "    sortedTaskList = taskSort(taskList)\n",
    "    \n",
    "    # Assign each task to a processor\n",
    "    # First Come First Serve (now that tasks are sorted)\n",
    "    # ProcessorTime is a dictionary mapping each processor (labeled 0 to processorcount-1) to it's earliest free time\n",
    "    processorTime = {}\n",
    "    for i in range(processorCount):\n",
    "        processorTime[i] = rescueStartTime        \n",
    "    \n",
    "    totalWaitingTime = dt.timedelta(0)\n",
    "    totalTurnaroundTime = dt.timedelta(0)\n",
    "    for task in sortedTaskList:\n",
    "        # i represents the processor that will act the soonest\n",
    "        i = soonestTime(processorTime)\n",
    "        task.setProcessor(i, processorTime[i])\n",
    "        processorTime[i] = task.completionTime+processorResetTime\n",
    "        #print(\"task: \"+str(task.tID) + \"; proc: \" + str(i))\n",
    "        #print(processorTime)\n",
    "    \n",
    "        # Calculate totalWaitingTime\n",
    "        totalWaitingTime += task.waitingTime \n",
    "        # Calculate totalTurnaroundTime\n",
    "        totalTurnaroundTime += task.turnaroundTime\n",
    "    print(\"totalWaitingTime: \"+str(totalWaitingTime))\n",
    "    # Calculate AverageWaitingTime\n",
    "    averageWaitingTime = totalWaitingTime / len(sortedTaskList)\n",
    "    print(\"averageWaitingTime: \"+str(averageWaitingTime))\n",
    "    print(\"totalTurnaroundTime: \"+str(totalTurnaroundTime))\n",
    "    # Calculate averageTurnaroundTime\n",
    "    averageTurnaroundTime = totalTurnaroundTime / len(sortedTaskList)\n",
    "    print(\"averageTurnaroundTime: \"+str(averageTurnaroundTime))\n",
    "    return sortedTaskList"
   ]
  },
  {
   "cell_type": "code",
   "execution_count": 7,
   "metadata": {},
   "outputs": [],
   "source": [
    "def sample():\n",
    "    # 'main' funciton for this file\n",
    "    # Runs the sample code given in paper (with date of jan 1, 2000)\n",
    "    # Define sample input\n",
    "    rescueStartTime = dt.datetime(2000,1,1,10,40)\n",
    "    numberOfProcessors = 3\n",
    "    tasks =     [task(1, dt.datetime(2000,1,1,10,00), dt.timedelta(minutes=30), 7, 5, 1)]\n",
    "    tasks.append(task(2, dt.datetime(2000,1,1,10,00), dt.timedelta(minutes=15), 7, 3, 2))\n",
    "    tasks.append(task(3, dt.datetime(2000,1,1,10,00), dt.timedelta(minutes=40), 5, 7, 3))\n",
    "    tasks.append(task(4, dt.datetime(2000,1,1,10,15), dt.timedelta(minutes=35), 8, 2, 4))\n",
    "    tasks.append(task(5, dt.datetime(2000,1,1,10,30), dt.timedelta(minutes=10), 4, 3, 2))\n",
    "\n",
    "    sortedTasks = hybridScheduleNoGroup(tasks, rescueStartTime, numberOfProcessors)\n",
    "    for i in sortedTasks:\n",
    "        print(i)\n",
    "        print(i.getProcessorInfo())"
   ]
  },
  {
   "cell_type": "code",
   "execution_count": 8,
   "metadata": {},
   "outputs": [
    {
     "name": "stdout",
     "output_type": "stream",
     "text": [
      "totalWaitingTime: 4:20:00\n",
      "averageWaitingTime: 0:52:00\n",
      "totalTurnaroundTime: 6:30:00\n",
      "averageTurnaroundTime: 1:18:00\n",
      "tID: 4; arrivalTime: $2000-01-01 10:15:00; burstTime: 0:35:00; tasksPriority: 8 distance: 2; areaID: 4\n",
      "tID: 4; startTime: 2000-01-01 10:40:00; completionTime: 2000-01-01 11:15:00; turnaroundTime: 1:00:00; waitingTime: 0:25:00; proc: 0\n",
      "tID: 2; arrivalTime: $2000-01-01 10:00:00; burstTime: 0:15:00; tasksPriority: 7 distance: 3; areaID: 2\n",
      "tID: 2; startTime: 2000-01-01 10:40:00; completionTime: 2000-01-01 10:55:00; turnaroundTime: 0:55:00; waitingTime: 0:40:00; proc: 1\n",
      "tID: 1; arrivalTime: $2000-01-01 10:00:00; burstTime: 0:30:00; tasksPriority: 7 distance: 5; areaID: 1\n",
      "tID: 1; startTime: 2000-01-01 10:40:00; completionTime: 2000-01-01 11:10:00; turnaroundTime: 1:10:00; waitingTime: 0:40:00; proc: 2\n",
      "tID: 3; arrivalTime: $2000-01-01 10:00:00; burstTime: 0:40:00; tasksPriority: 5 distance: 7; areaID: 3\n",
      "tID: 3; startTime: 2000-01-01 11:25:00; completionTime: 2000-01-01 12:05:00; turnaroundTime: 2:05:00; waitingTime: 1:25:00; proc: 1\n",
      "tID: 5; arrivalTime: $2000-01-01 10:30:00; burstTime: 0:10:00; tasksPriority: 4 distance: 3; areaID: 2\n",
      "tID: 5; startTime: 2000-01-01 11:40:00; completionTime: 2000-01-01 11:50:00; turnaroundTime: 1:20:00; waitingTime: 1:10:00; proc: 2\n"
     ]
    }
   ],
   "source": [
    "sample()"
   ]
  }
 ],
 "metadata": {
  "kernelspec": {
   "display_name": "Python 3",
   "language": "python",
   "name": "python3"
  },
  "language_info": {
   "codemirror_mode": {
    "name": "ipython",
    "version": 3
   },
   "file_extension": ".py",
   "mimetype": "text/x-python",
   "name": "python",
   "nbconvert_exporter": "python",
   "pygments_lexer": "ipython3",
   "version": "3.7.1"
  }
 },
 "nbformat": 4,
 "nbformat_minor": 2
}

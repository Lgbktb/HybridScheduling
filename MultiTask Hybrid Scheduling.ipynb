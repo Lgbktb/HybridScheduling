{
 "cells": [
  {
   "cell_type": "markdown",
   "metadata": {},
   "source": [
    "**Input:** processorNo, taskSeq[1:::n], tasksPriority[1:::n],\n",
    "arrivalTime[at1:::atn], burstTime[bt1::::btn],\n",
    "taskslocation[1...n], disRadius\n",
    "\n",
    "**Output:**: scheduleSeq[taski:::taskn], startTime[st1:::stn],\n",
    "turnAroundTime, averageWaitingTime, average-\n",
    "TurnAroundTime;\n",
    "\n",
    "**Initialization:** All the processors K are released and ready\n",
    "to begin a task.\n",
    "Initialize, scheduleSeq, startTime, and turnAroundTime\n",
    "as list []; currentTime = 0, waitingTime = 0, total-\n",
    "TurnAroundTime = 0;\n",
    "Sort the variables in descending order using taskPriority.\n",
    "Re-sort the values in ascending order using burstTime and\n",
    "arrivalTime for same taskPriority tasks. Assign the tasks\n",
    "in priority queue Pqueue;"
   ]
  },
  {
   "cell_type": "code",
   "execution_count": null,
   "metadata": {},
   "outputs": [],
   "source": []
  }
 ],
 "metadata": {
  "kernelspec": {
   "display_name": "Python 3",
   "language": "python",
   "name": "python3"
  },
  "language_info": {
   "codemirror_mode": {
    "name": "ipython",
    "version": 3
   },
   "file_extension": ".py",
   "mimetype": "text/x-python",
   "name": "python",
   "nbconvert_exporter": "python",
   "pygments_lexer": "ipython3",
   "version": "3.7.1"
  }
 },
 "nbformat": 4,
 "nbformat_minor": 2
}

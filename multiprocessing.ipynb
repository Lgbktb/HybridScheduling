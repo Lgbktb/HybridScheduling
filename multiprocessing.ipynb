{
 "cells": [
  {
   "cell_type": "code",
   "execution_count": 1,
   "metadata": {},
   "outputs": [
    {
     "name": "stdout",
     "output_type": "stream",
     "text": [
      "Square: 100\n",
      "Cube: 1000\n",
      "Done!\n"
     ]
    }
   ],
   "source": [
    "# Python program to illustrate the concept \n",
    "# of threading \n",
    "# importing the threading module \n",
    "import threading \n",
    "  \n",
    "def print_cube(num): \n",
    "    \"\"\" \n",
    "    function to print cube of given num \n",
    "    \"\"\"\n",
    "    print(\"Cube: {}\".format(num * num * num)) \n",
    "  \n",
    "def print_square(num): \n",
    "    \"\"\" \n",
    "    function to print square of given num \n",
    "    \"\"\"\n",
    "    print(\"Square: {}\".format(num * num)) \n",
    "  \n",
    "if __name__ == \"__main__\": \n",
    "    # creating thread \n",
    "    t1 = threading.Thread(target=print_square, args=(10,)) \n",
    "    t2 = threading.Thread(target=print_cube, args=(10,)) \n",
    "  \n",
    "    # starting thread 1 \n",
    "    t1.start() \n",
    "    # starting thread 2 \n",
    "    t2.start() \n",
    "  \n",
    "    # wait until thread 1 is completely executed \n",
    "    t1.join() \n",
    "    # wait until thread 2 is completely executed \n",
    "    t2.join() \n",
    "  \n",
    "    # both threads completely executed \n",
    "    print(\"Done!\") "
   ]
  },
  {
   "cell_type": "code",
   "execution_count": 11,
   "metadata": {},
   "outputs": [
    {
     "name": "stdout",
     "output_type": "stream",
     "text": [
      "no 3 in list: t2\n",
      "[1, 2, 4, 5]\n"
     ]
    }
   ],
   "source": [
    "def removeThree(arr):\n",
    "    if 3 in arr:\n",
    "        arr.remove(3)\n",
    "    else:\n",
    "        print(\"no 3 in list: {}\".format(threading.current_thread().name))\n",
    "arr = [1,2,3,4,5]\n",
    "t1 = threading.Thread(target=removeThree, args=(arr,),name='t1')\n",
    "t2 = threading.Thread(target=removeThree, args=(arr,),name='t2')\n",
    "t1.start()\n",
    "t2.start()\n",
    "t1.join()\n",
    "t2.join()\n",
    "print(arr)"
   ]
  },
  {
   "cell_type": "code",
   "execution_count": 22,
   "metadata": {},
   "outputs": [],
   "source": [
    "class box:\n",
    "    def __init__(self, x, y):\n",
    "        self.x = x\n",
    "        self.y = y\n",
    "        self.lock = threading.Lock()\n",
    "        self.doubled = False\n",
    "    def __str__(self):\n",
    "        return \"{},{}\".format(self.x, self.y)"
   ]
  },
  {
   "cell_type": "code",
   "execution_count": 27,
   "metadata": {},
   "outputs": [
    {
     "name": "stdout",
     "output_type": "stream",
     "text": [
      "t1 acquire box 1,1\n",
      "t1 acquire box 2,2\n",
      "t1 acquire box 3,3\n",
      "t1 acquire box 4,4\n",
      "t1 acquire box 5,5\n",
      "t2 acquire box 2,2\n",
      "t2 acquire box 4,4\n",
      "t2 acquire box 6,6\n",
      "t2 acquire box 8,8\n",
      "t2 acquire box 10,10\n",
      "4,4\n",
      "8,8\n",
      "12,12\n",
      "16,16\n",
      "20,20\n"
     ]
    }
   ],
   "source": [
    "def doubleBoxes(boxes):\n",
    "    for box in boxes:\n",
    "        box.lock.acquire()\n",
    "        print(\"{} acquire box {},{}\".format(threading.current_thread().name,box.x,box.y))\n",
    "        box.x += box.x\n",
    "        box.y += box.y\n",
    "        box.doubled = True\n",
    "        box.lock.release()\n",
    "arr = [box(1,1), box(2,2), box(3,3), box(4,4), box(5,5)]\n",
    "# Thread 1\n",
    "t1 = threading.Thread(target=doubleBoxes, args=(arr,),name='t1')\n",
    "# Thread 2\n",
    "t2 = threading.Thread(target=doubleBoxes, args=(arr,),name='t2')\n",
    "\n",
    "t1.start()\n",
    "t2.start()\n",
    "t2.join()\n",
    "t1.join()\n",
    "for i in arr:\n",
    "    print(i)"
   ]
  },
  {
   "cell_type": "code",
   "execution_count": null,
   "metadata": {},
   "outputs": [],
   "source": []
  },
  {
   "cell_type": "code",
   "execution_count": null,
   "metadata": {},
   "outputs": [],
   "source": []
  }
 ],
 "metadata": {
  "kernelspec": {
   "display_name": "Python 3",
   "language": "python",
   "name": "python3"
  },
  "language_info": {
   "codemirror_mode": {
    "name": "ipython",
    "version": 3
   },
   "file_extension": ".py",
   "mimetype": "text/x-python",
   "name": "python",
   "nbconvert_exporter": "python",
   "pygments_lexer": "ipython3",
   "version": "3.7.3"
  }
 },
 "nbformat": 4,
 "nbformat_minor": 2
}
